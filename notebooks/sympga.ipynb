{
 "cells": [
  {
   "cell_type": "code",
   "execution_count": 29,
   "metadata": {},
   "outputs": [],
   "source": [
    "from sympy import *\n",
    "\n",
    "init_printing(use_latex='mathjax')\n",
    "\n",
    "t, A = symbols('t A', real=true) # a time varying A does not work well, so it is not given as a function here\n",
    "phi= Function('phi', real=true)\n"
   ]
  },
  {
   "attachments": {},
   "cell_type": "markdown",
   "metadata": {},
   "source": [
    "Here my trial to see why the formular of Eichel for the estimation of the derivative of the angular frequency works: \\\n",
    "By multiplying the conjugate and the derivative for an arbitrary complex function \n",
    "$x(t) = |x(t)| * exp(i*\\phi(t))$ \\\n",
    "The complex exponential cancels out and the phase derivative $d \\phi(t) / d(t)$ becomes easily accesible."
   ]
  },
  {
   "cell_type": "code",
   "execution_count": 30,
   "metadata": {},
   "outputs": [
    {
     "data": {
      "text/latex": [
       "$\\displaystyle A e^{- i \\phi{\\left(t \\right)}}$"
      ],
      "text/plain": [
       "   -ⅈ⋅φ(t)\n",
       "A⋅ℯ       "
      ]
     },
     "metadata": {},
     "output_type": "display_data"
    },
    {
     "data": {
      "text/latex": [
       "$\\displaystyle i A e^{i \\phi{\\left(t \\right)}} \\frac{d}{d t} \\phi{\\left(t \\right)}$"
      ],
      "text/plain": [
       "     ⅈ⋅φ(t) d       \n",
       "ⅈ⋅A⋅ℯ      ⋅──(φ(t))\n",
       "            dt      "
      ]
     },
     "metadata": {},
     "output_type": "display_data"
    },
    {
     "data": {
      "text/latex": [
       "$\\displaystyle i A^{2} \\frac{d}{d t} \\phi{\\left(t \\right)}$"
      ],
      "text/plain": [
       "   2 d       \n",
       "ⅈ⋅A ⋅──(φ(t))\n",
       "     dt      "
      ]
     },
     "metadata": {},
     "output_type": "display_data"
    },
    {
     "data": {
      "text/latex": [
       "$\\displaystyle \\operatorname{re}{\\left(\\frac{d}{d t} \\phi{\\left(t \\right)}\\right)}$"
      ],
      "text/plain": [
       "  ⎛d       ⎞\n",
       "re⎜──(φ(t))⎟\n",
       "  ⎝dt      ⎠"
      ]
     },
     "metadata": {},
     "output_type": "display_data"
    }
   ],
   "source": [
    "exp1 = conjugate(A * exp( I * phi(t)))\n",
    "\n",
    "exp2 = diff(A * exp( I * phi(t)), t)\n",
    "\n",
    "exp3 = exp1 * exp2\n",
    "\n",
    "exp4 = im(exp3)/A**2\n",
    "\n",
    "display(exp1)\n",
    "display(exp2)\n",
    "display(exp3)\n",
    "display(exp4)\n"
   ]
  },
  {
   "attachments": {},
   "cell_type": "markdown",
   "metadata": {},
   "source": [
    "As the signal in the phase history domain is an analytic signal, we have an easy access to the instantaneous phase $phi(t)$:\n",
    "\n",
    "$$ \\phi(t) = \\arctan\\left(\\frac{Im(x(t))}{Re(x(t))}\\right) $$\n",
    "\n",
    "see here, how this information can be used to demodulate a phase modulated carrier signal: \\\n",
    "https://www.gaussianwaves.com/2017/06/phase-demodulation-using-hilbert-transform-application-of-analytic-signal/ \\\n",
    "(It is actually the same idea as the phase gradient algorithm)"
   ]
  },
  {
   "cell_type": "code",
   "execution_count": 31,
   "metadata": {},
   "outputs": [
    {
     "data": {
      "text/latex": [
       "$\\displaystyle A \\sin{\\left(\\phi{\\left(t \\right)} \\right)}$"
      ],
      "text/plain": [
       "A⋅sin(φ(t))"
      ]
     },
     "metadata": {},
     "output_type": "display_data"
    },
    {
     "data": {
      "text/latex": [
       "$\\displaystyle \\operatorname{atan}{\\left(\\frac{\\sin{\\left(\\phi{\\left(t \\right)} \\right)}}{\\cos{\\left(\\phi{\\left(t \\right)} \\right)}} \\right)}$"
      ],
      "text/plain": [
       "    ⎛sin(φ(t))⎞\n",
       "atan⎜─────────⎟\n",
       "    ⎝cos(φ(t))⎠"
      ]
     },
     "metadata": {},
     "output_type": "display_data"
    },
    {
     "data": {
      "text/latex": [
       "$\\displaystyle \\operatorname{atan}{\\left(\\tan{\\left(\\phi{\\left(t \\right)} \\right)} \\right)}$"
      ],
      "text/plain": [
       "atan(tan(φ(t)))"
      ]
     },
     "metadata": {},
     "output_type": "display_data"
    }
   ],
   "source": [
    "im_xt = im(A * exp( I * phi(t)))\n",
    "re_xt = re(A * exp( I * phi(t)))\n",
    "phi_t = atan(im_xt/re_xt)\n",
    "\n",
    "display(im_xt)\n",
    "\n",
    "display(phi_t)\n",
    "\n",
    "display(simplify(phi_t))\n"
   ]
  },
  {
   "attachments": {},
   "cell_type": "markdown",
   "metadata": {},
   "source": [
    "FATIHs Matlab code yet uses another approach to estimate the phase derivative"
   ]
  },
  {
   "cell_type": "code",
   "execution_count": 35,
   "metadata": {},
   "outputs": [
    {
     "data": {
      "text/latex": [
       "$\\displaystyle A^{2} e^{- i \\phi{\\left(t \\right)}} e^{i \\phi{\\left(t \\right)} + \\frac{d}{d t} \\phi{\\left(t \\right)}}$"
      ],
      "text/plain": [
       "                      d       \n",
       "             ⅈ⋅φ(t) + ──(φ(t))\n",
       " 2  -ⅈ⋅φ(t)           dt      \n",
       "A ⋅ℯ       ⋅ℯ                 "
      ]
     },
     "metadata": {},
     "output_type": "display_data"
    },
    {
     "data": {
      "text/latex": [
       "$\\displaystyle \\arg{\\left(A^{2} e^{- i \\phi{\\left(t \\right)}} e^{i \\phi{\\left(t \\right)} + \\frac{d}{d t} \\phi{\\left(t \\right)}} \\right)}$"
      ],
      "text/plain": [
       "   ⎛                      d       ⎞\n",
       "   ⎜             ⅈ⋅φ(t) + ──(φ(t))⎟\n",
       "   ⎜ 2  -ⅈ⋅φ(t)           dt      ⎟\n",
       "arg⎝A ⋅ℯ       ⋅ℯ                 ⎠"
      ]
     },
     "metadata": {},
     "output_type": "display_data"
    },
    {
     "data": {
      "text/latex": [
       "$\\displaystyle \\arg{\\left(A^{2} e^{\\frac{d}{d t} \\phi{\\left(t \\right)}} \\right)}$"
      ],
      "text/plain": [
       "   ⎛    d       ⎞\n",
       "   ⎜    ──(φ(t))⎟\n",
       "   ⎜ 2  dt      ⎟\n",
       "arg⎝A ⋅ℯ        ⎠"
      ]
     },
     "metadata": {},
     "output_type": "display_data"
    }
   ],
   "source": [
    "t0 = symbols('t0', real=true)\n",
    "exp1 = conjugate(A * exp( I * phi(t)))\n",
    "exp2 = A * exp( I * phi(t) + diff(phi(t))) # second complex is taken one sample later\n",
    "exp3 = exp1 * exp2\n",
    "exp4 = arg(exp3)\n",
    "\n",
    "display(exp3)\n",
    "display(exp4)\n",
    "display(simplify(exp4))"
   ]
  }
 ],
 "metadata": {
  "kernelspec": {
   "display_name": ".env",
   "language": "python",
   "name": "python3"
  },
  "language_info": {
   "codemirror_mode": {
    "name": "ipython",
    "version": 3
   },
   "file_extension": ".py",
   "mimetype": "text/x-python",
   "name": "python",
   "nbconvert_exporter": "python",
   "pygments_lexer": "ipython3",
   "version": "3.9.10"
  },
  "orig_nbformat": 4,
  "vscode": {
   "interpreter": {
    "hash": "3453d7baf7f77802fe161fa5b12421f0d5fd1f37cc1c1bf47ea7e62f8fe2a42d"
   }
  }
 },
 "nbformat": 4,
 "nbformat_minor": 2
}
